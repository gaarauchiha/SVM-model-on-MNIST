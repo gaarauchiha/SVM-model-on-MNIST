{
 "cells": [
  {
   "cell_type": "code",
   "execution_count": 28,
   "id": "dd7f1cfc",
   "metadata": {},
   "outputs": [],
   "source": [
    "from sklearn.datasets import fetch_openml\n",
    "import time\n",
    "import numpy as np\n",
    "from numpy import linalg as LA\n",
    "from sklearn.model_selection import train_test_split\n",
    "import time\n",
    "import matplotlib.pyplot as plt"
   ]
  },
  {
   "cell_type": "code",
   "execution_count": 29,
   "id": "61f48b56",
   "metadata": {},
   "outputs": [],
   "source": [
    "with np.load('mnist.npz') as data:\n",
    "    xx = data['x_train']\n",
    "    yy = data['y_train']\n",
    "\n",
    "xx = xx.reshape(-1, 784) / 255.  \n",
    "yy = yy.astype(np.int64)\n",
    "\n",
    "m = xx.shape[0]\n",
    "n = xx.shape[1] + 1\n",
    "\n",
    "X = np.concatenate((np.ones([m,1]),xx), axis=1)  \n",
    "\n",
    "cat = np.zeros([m,10])\n",
    "for ind, num in enumerate(yy):\n",
    "    cat[ind][num] = 1\n",
    "Y = cat\n",
    "\n",
    "x_train, x_test, y_train, y_test = train_test_split(X, Y, test_size = 0.15, random_state=42)\n"
   ]
  },
  {
   "cell_type": "code",
   "execution_count": 3,
   "id": "01eaf554",
   "metadata": {},
   "outputs": [
    {
     "name": "stdout",
     "output_type": "stream",
     "text": [
      "information of datasets:\n",
      "- X original: 60000 x 785\n",
      "- Y original: 60000 x 10\n",
      "- X Train: 51000 x 785\n",
      "- Y train: 51000 x 10\n",
      "- X Test: 9000 x 785\n",
      "- Y Test: 9000 x 10\n"
     ]
    }
   ],
   "source": [
    "print(f'- X original: {X.shape[0]} x {X.shape[1]}')\n",
    "print(f'- Y original: {Y.shape[0]} x {Y.shape[1]}')\n",
    "print(f'- X Train: {x_train.shape[0]} x {x_train.shape[1]}')\n",
    "print(f'- Y train: {y_train.shape[0]} x {y_train.shape[1]}')\n",
    "print(f'- X Test: {x_test.shape[0]} x {x_test.shape[1]}')\n",
    "print(f'- Y Test: {y_test.shape[0]} x {y_test.shape[1]}')"
   ]
  },
  {
   "cell_type": "code",
   "execution_count": 5,
   "id": "e794c4dc",
   "metadata": {
    "scrolled": true
   },
   "outputs": [
    {
     "name": "stdout",
     "output_type": "stream",
     "text": [
      "9\n"
     ]
    },
    {
     "data": {
      "image/png": "[encoded data removed]",
      "text/plain": [
       "<Figure size 640x480 with 1 Axes>"
      ]
     },
     "metadata": {},
     "output_type": "display_data"
    }
   ],
   "source": [
    "NumSample = np.random.randint(0,59500)\n",
    "plt.imshow(np.reshape(x_train[NumSample][1:], [28,28]), cmap='Greys')\n",
    "print(np.argmax(y_train[NumSample]))"
   ]
  },
  {
   "cell_type": "code",
   "execution_count": 7,
   "id": "4060b5d0",
   "metadata": {
    "scrolled": false
   },
   "outputs": [],
   "source": [
    "N = len(ydual_train)\n",
    "XPY = xdual_train\n",
    "for i in range(N):\n",
    "    if ydual_train[i]==-1:\n",
    "        XPY[i,:] =-1 * xdual_train[i,:]   \n",
    "\n",
    "A = np.matmul(XPY,XPY.transpose())\n",
    "\n",
    "AT = A.transpose()\n",
    "\n",
    "YM = np.outer(ydual_train[1:],ydual_train[1:])\n",
    "AY = np.outer(A[0,1:],ydual_train[1:])\n",
    "YA = np.outer(ydual_train[1:],A[0,1:])\n",
    "\n",
    "\n",
    "Y0S = ydual_train[0]**2\n",
    "M = AT[1:,1:] + A[0,0]*YM/Y0S - AY/ydual_train[0] - YA/ydual_train[0]\n",
    "\n",
    "\n",
    "b = np.zeros(N-1)\n",
    "b = 1 - ydual_train[1:]/ydual_train[0]\n",
    "\n",
    "\n",
    "aw = np.zeros(N)\n",
    "for i in range(2,N):\n",
    "    aw[i] = (1-ydual_train[i]/ydual_train[0])/(A[i,i] + A[0,0]*ydual_train[i]**2/ydual_train[0]**2 \n",
    "                                               - 2*A[0,i]*ydual_train[i]/ydual_train[0])\n",
    "\n",
    "aw[0] = -sum(ydual_train[1:]*aw[1:])/ydual_train[0]"
   ]
  },
  {
   "cell_type": "code",
   "execution_count": 8,
   "id": "778d2f90",
   "metadata": {},
   "outputs": [
    {
     "name": "stdout",
     "output_type": "stream",
     "text": [
      "[1.15005553e+02 0.00000000e+00 0.00000000e+00 ... 1.98644725e-02\n",
      " 1.91423266e-02 0.00000000e+00]\n",
      "[-1. -1. -1. ...  1.  1. -1.]\n"
     ]
    }
   ],
   "source": [
    "print(aw)\n",
    "print(ydual_train)"
   ]
  },
  {
   "cell_type": "code",
   "execution_count": 9,
   "id": "ef7f9260",
   "metadata": {
    "scrolled": true
   },
   "outputs": [],
   "source": [
    "YA   = ydual_train*aw\n",
    "wght = sum(xdual_train * YA[:,None])"
   ]
  },
  {
   "cell_type": "code",
   "execution_count": 10,
   "id": "06513bd3",
   "metadata": {
    "scrolled": true
   },
   "outputs": [],
   "source": [
    "b =sum(ydual_train - np.matmul(xdual_train,wght))/N\n",
    "yfit = np.matmul(xdual_train,wght) + b\n",
    "yfitsign = np.sign(yfit)\n",
    "ydiff = yfitsign - np.asfarray(ydual_train)\n",
    "wherediff = np.where(ydiff != 0)"
   ]
  },
  {
   "cell_type": "code",
   "execution_count": 11,
   "id": "c82c7bc4",
   "metadata": {
    "scrolled": true
   },
   "outputs": [
    {
     "name": "stdout",
     "output_type": "stream",
     "text": [
      "(array([], dtype=int64),)\n",
      "[-1. -1. -1.  1. -1.  1. -1. -1. -1.  1.  1.  1.  1. -1. -1.]\n",
      "[-1. -1. -1.  1. -1.  1. -1. -1. -1.  1.  1.  1.  1. -1. -1.]\n",
      "0.0\n"
     ]
    }
   ],
   "source": [
    "print(wherediff)\n",
    "print(yfitsign[:15])\n",
    "print(ydual_train[:15])\n",
    "print(len(wherediff[0])/len(ydual_train))"
   ]
  },
  {
   "cell_type": "code",
   "execution_count": 12,
   "id": "e0b507f8",
   "metadata": {
    "scrolled": true
   },
   "outputs": [
    {
     "data": {
      "text/plain": [
       "<matplotlib.image.AxesImage at 0x2de2875e190>"
      ]
     },
     "execution_count": 12,
     "metadata": {},
     "output_type": "execute_result"
    },
    {
     "data": {
      "image/png": "[encoded data removed]",
      "text/plain": [
       "<Figure size 640x480 with 1 Axes>"
      ]
     },
     "metadata": {},
     "output_type": "display_data"
    }
   ],
   "source": [
    "plt.imshow(np.reshape(xdual_train[9][:], [28,28]), cmap='Greys')"
   ]
  },
  {
   "cell_type": "code",
   "execution_count": 13,
   "id": "c2a81c9d",
   "metadata": {},
   "outputs": [
    {
     "name": "stdout",
     "output_type": "stream",
     "text": [
      "(784,)\n"
     ]
    }
   ],
   "source": [
    "print(wght.shape)"
   ]
  },
  {
   "cell_type": "code",
   "execution_count": 14,
   "id": "6a0c98d2",
   "metadata": {},
   "outputs": [],
   "source": [
    "mwght = max(wght)\n",
    "wghtimg=np.reshape(wght, [28,28])"
   ]
  },
  {
   "cell_type": "code",
   "execution_count": 15,
   "id": "fb84b8af",
   "metadata": {},
   "outputs": [],
   "source": [
    "wghtimg = wghtimg*225/mwght"
   ]
  },
  {
   "cell_type": "code",
   "execution_count": 16,
   "id": "bf2390ba",
   "metadata": {
    "scrolled": true
   },
   "outputs": [
    {
     "data": {
      "text/plain": [
       "<matplotlib.image.AxesImage at 0x2de28758110>"
      ]
     },
     "execution_count": 16,
     "metadata": {},
     "output_type": "execute_result"
    },
    {
     "data": {
      "image/png": "[encoded data removed]",
      "text/plain": [
       "<Figure size 640x480 with 1 Axes>"
      ]
     },
     "metadata": {},
     "output_type": "display_data"
    }
   ],
   "source": [
    "plt.imshow(wghtimg, cmap='Greys')"
   ]
  },
  {
   "cell_type": "code",
   "execution_count": 26,
   "id": "1932fd7f",
   "metadata": {},
   "outputs": [
    {
     "name": "stdout",
     "output_type": "stream",
     "text": [
      "Accuracy: 53.74037403740374%\n"
     ]
    }
   ],
   "source": [
    "y_pred = np.sign(np.dot(xdual_test, wght) + b)\n",
    "\n",
    "accuracy = np.mean(y_pred == ydual_test)\n",
    "\n",
    "print(f\"Accuracy: {accuracy * 100}%\")\n"
   ]
  }
 ],
 "metadata": {
  "kernelspec": {
   "display_name": "Python 3 (ipykernel)",
   "language": "python",
   "name": "python3"
  },
  "language_info": {
   "codemirror_mode": {
    "name": "ipython",
    "version": 3
   },
   "file_extension": ".py",
   "mimetype": "text/x-python",
   "name": "python",
   "nbconvert_exporter": "python",
   "pygments_lexer": "ipython3",
   "version": "3.11.3"
  }
 },
 "nbformat": 4,
 "nbformat_minor": 5
}
